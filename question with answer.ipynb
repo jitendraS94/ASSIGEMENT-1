{
 "cells": [
  {
   "cell_type": "markdown",
   "id": "d23f1473",
   "metadata": {},
   "source": [
    "s = \"this is My First Python programming class and i am learNING python string and its function\"\n",
    "\n",
    "1 . Try to extract data from index one to index 300 with a jump of 3 \n",
    "\n",
    "2. Try to reverse a string without using reverse function \n",
    "\n",
    "3. Try to split a string after conversion of entire string in uppercase \n",
    "\n",
    "4. try to convert the whole string into lower case \n",
    "\n",
    "5 . Try to capitalize the whole string \n",
    "\n",
    "6 . Write a diference between isalnum() and isalpha()\n",
    "\n",
    "7. Try to give an example of expand tab\n",
    "\n",
    "8 . Give an example of strip , lstrip and rstrip \n",
    "\n",
    "9.  Replace a string charecter by another charector by taking your own example \n",
    "\"sudhanshu\"\n",
    "\n",
    "10 . Try  to give a defination of string center function with and exmple \n",
    "\n",
    "11 . Write your own definition of compiler and interpretor without copy paste form internet in your own language\n",
    "\n",
    "12 . Python is a interpreted of compiled language give a clear ans with your understanding \n",
    "\n",
    "13 . Try to write a usecase of python with your understanding .\n",
    "\n",
    "\n",
    "\n",
    "you have to send a jupyter notebook to shivan@ineuron.ai before next saturday class 21st of may . \n"
   ]
  },
  {
   "cell_type": "code",
   "execution_count": 1,
   "id": "2c95e3b7",
   "metadata": {},
   "outputs": [],
   "source": [
    "s =  \"this is MY First Pythone programming class and i am learNING python string and its function\""
   ]
  },
  {
   "cell_type": "markdown",
   "id": "41e2fc16",
   "metadata": {},
   "source": [
    "1 . Try to extract data from index one to index 300 with a jump of 3"
   ]
  },
  {
   "cell_type": "code",
   "execution_count": 2,
   "id": "a18a071c",
   "metadata": {},
   "outputs": [],
   "source": [
    "s =  \"this is MY First Pythone programming class and i am learNING python string and its function\""
   ]
  },
  {
   "cell_type": "code",
   "execution_count": 3,
   "id": "89663411",
   "metadata": {},
   "outputs": [
    {
     "data": {
      "text/plain": [
       "'h   r tnpgmncsa alrNph rgni ni'"
      ]
     },
     "execution_count": 3,
     "metadata": {},
     "output_type": "execute_result"
    }
   ],
   "source": [
    "s[1:300:3]"
   ]
  },
  {
   "cell_type": "markdown",
   "id": "ed9f6eed",
   "metadata": {},
   "source": [
    "2 .Try to reverse a string without using reverse function"
   ]
  },
  {
   "cell_type": "code",
   "execution_count": 4,
   "id": "222f4a11",
   "metadata": {},
   "outputs": [
    {
     "data": {
      "text/plain": [
       "'noitcnuf sti dna gnirts nohtyp GNINrael ma i dna ssalc gnimmargorp enohtyP tsriF YM si siht'"
      ]
     },
     "execution_count": 4,
     "metadata": {},
     "output_type": "execute_result"
    }
   ],
   "source": [
    "s[::-1]"
   ]
  },
  {
   "cell_type": "markdown",
   "id": "60dc7d61",
   "metadata": {},
   "source": [
    "Try to split a string after conversion of entire string in uppercase"
   ]
  },
  {
   "cell_type": "code",
   "execution_count": 5,
   "id": "8d5b3748",
   "metadata": {},
   "outputs": [
    {
     "data": {
      "text/plain": [
       "['this',\n",
       " 'is',\n",
       " 'MY',\n",
       " 'First',\n",
       " 'Pythone',\n",
       " 'programming',\n",
       " 'class',\n",
       " 'and',\n",
       " 'i',\n",
       " 'am',\n",
       " 'learNING',\n",
       " 'python',\n",
       " 'string',\n",
       " 'and',\n",
       " 'its',\n",
       " 'function']"
      ]
     },
     "execution_count": 5,
     "metadata": {},
     "output_type": "execute_result"
    }
   ],
   "source": [
    "s.split()"
   ]
  },
  {
   "cell_type": "code",
   "execution_count": 6,
   "id": "cea9fee8",
   "metadata": {},
   "outputs": [
    {
     "data": {
      "text/plain": [
       "'THIS IS MY FIRST PYTHONE PROGRAMMING CLASS AND I AM LEARNING PYTHON STRING AND ITS FUNCTION'"
      ]
     },
     "execution_count": 6,
     "metadata": {},
     "output_type": "execute_result"
    }
   ],
   "source": [
    "s.upper()"
   ]
  },
  {
   "cell_type": "markdown",
   "id": "e7d2bb1d",
   "metadata": {},
   "source": [
    "try to convert the whole string into lower case"
   ]
  },
  {
   "cell_type": "code",
   "execution_count": 7,
   "id": "6c72e3a6",
   "metadata": {},
   "outputs": [
    {
     "data": {
      "text/plain": [
       "'this is my first pythone programming class and i am learning python string and its function'"
      ]
     },
     "execution_count": 7,
     "metadata": {},
     "output_type": "execute_result"
    }
   ],
   "source": [
    "s.lower()"
   ]
  },
  {
   "cell_type": "markdown",
   "id": "086e1843",
   "metadata": {},
   "source": [
    "5 . Try to capitalize the whole string"
   ]
  },
  {
   "cell_type": "code",
   "execution_count": 8,
   "id": "b32e9a47",
   "metadata": {},
   "outputs": [
    {
     "data": {
      "text/plain": [
       "'This is my first pythone programming class and i am learning python string and its function'"
      ]
     },
     "execution_count": 8,
     "metadata": {},
     "output_type": "execute_result"
    }
   ],
   "source": [
    "s.capitalize()"
   ]
  },
  {
   "cell_type": "markdown",
   "id": "404a98b4",
   "metadata": {},
   "source": [
    "Differnt between upper case and capitalize is , in upper case all the string word are convert in capital letter but in capitalize\n",
    "only first letter is change ."
   ]
  },
  {
   "cell_type": "markdown",
   "id": "49122e36",
   "metadata": {},
   "source": [
    "6 . Write a diference between isalnum() and isalpha()"
   ]
  },
  {
   "cell_type": "markdown",
   "id": "6e01c075",
   "metadata": {},
   "source": [
    "isalpha()= it is true only if the given value is alphabetical . exampal = (a = \"ineuron\"  = True if a1 = \"123ineuron\" == False"
   ]
  },
  {
   "cell_type": "code",
   "execution_count": 9,
   "id": "c1e0fae0",
   "metadata": {},
   "outputs": [],
   "source": [
    "a = \"ineuron\""
   ]
  },
  {
   "cell_type": "code",
   "execution_count": 10,
   "id": "58aaa2b6",
   "metadata": {},
   "outputs": [
    {
     "data": {
      "text/plain": [
       "True"
      ]
     },
     "execution_count": 10,
     "metadata": {},
     "output_type": "execute_result"
    }
   ],
   "source": [
    "a.isalpha()"
   ]
  },
  {
   "cell_type": "code",
   "execution_count": 11,
   "id": "25e2139e",
   "metadata": {},
   "outputs": [],
   "source": [
    "a1 = \"123ineuron\""
   ]
  },
  {
   "cell_type": "code",
   "execution_count": 12,
   "id": "dba90e7b",
   "metadata": {},
   "outputs": [
    {
     "data": {
      "text/plain": [
       "False"
      ]
     },
     "execution_count": 12,
     "metadata": {},
     "output_type": "execute_result"
    }
   ],
   "source": [
    "a1.isalpha()"
   ]
  },
  {
   "cell_type": "markdown",
   "id": "6fe2fe2a",
   "metadata": {},
   "source": [
    "isalnum() = it is true only when given string is alpha-numerical. . exampal = (a = \"ineuron\"  = True if a1 = \"123ineuron\" == False"
   ]
  },
  {
   "cell_type": "code",
   "execution_count": 13,
   "id": "d17baa3b",
   "metadata": {},
   "outputs": [],
   "source": [
    "a = \"ineuron\""
   ]
  },
  {
   "cell_type": "code",
   "execution_count": 14,
   "id": "589880ce",
   "metadata": {},
   "outputs": [
    {
     "data": {
      "text/plain": [
       "True"
      ]
     },
     "execution_count": 14,
     "metadata": {},
     "output_type": "execute_result"
    }
   ],
   "source": [
    "a.isalnum()"
   ]
  },
  {
   "cell_type": "code",
   "execution_count": 15,
   "id": "bee1ff9b",
   "metadata": {},
   "outputs": [],
   "source": [
    "a1 = \"123ineuron\""
   ]
  },
  {
   "cell_type": "code",
   "execution_count": 16,
   "id": "9b6c617a",
   "metadata": {},
   "outputs": [
    {
     "data": {
      "text/plain": [
       "True"
      ]
     },
     "execution_count": 16,
     "metadata": {},
     "output_type": "execute_result"
    }
   ],
   "source": [
    "a1.isalnum()"
   ]
  },
  {
   "cell_type": "code",
   "execution_count": 17,
   "id": "a213bd51",
   "metadata": {},
   "outputs": [],
   "source": [
    "a3 = \"5665656\""
   ]
  },
  {
   "cell_type": "code",
   "execution_count": 18,
   "id": "fb22bd16",
   "metadata": {},
   "outputs": [
    {
     "data": {
      "text/plain": [
       "True"
      ]
     },
     "execution_count": 18,
     "metadata": {},
     "output_type": "execute_result"
    }
   ],
   "source": [
    "a3.isalnum()"
   ]
  },
  {
   "cell_type": "code",
   "execution_count": 19,
   "id": "3b5055e1",
   "metadata": {},
   "outputs": [],
   "source": [
    "a4 = \"ajsbga123\""
   ]
  },
  {
   "cell_type": "code",
   "execution_count": 20,
   "id": "7cd84985",
   "metadata": {},
   "outputs": [
    {
     "data": {
      "text/plain": [
       "True"
      ]
     },
     "execution_count": 20,
     "metadata": {},
     "output_type": "execute_result"
    }
   ],
   "source": [
    "a4.isalnum()"
   ]
  },
  {
   "cell_type": "code",
   "execution_count": 21,
   "id": "5c6ec608",
   "metadata": {},
   "outputs": [],
   "source": [
    "a5 = \"@122vxasgvx\""
   ]
  },
  {
   "cell_type": "code",
   "execution_count": 22,
   "id": "ad72cb12",
   "metadata": {},
   "outputs": [
    {
     "data": {
      "text/plain": [
       "False"
      ]
     },
     "execution_count": 22,
     "metadata": {},
     "output_type": "execute_result"
    }
   ],
   "source": [
    "a5.isalnum()"
   ]
  },
  {
   "cell_type": "markdown",
   "id": "d816bb40",
   "metadata": {},
   "source": [
    "7 Try to give an example of expand tab\n"
   ]
  },
  {
   "cell_type": "code",
   "execution_count": 34,
   "id": "d7de8744",
   "metadata": {},
   "outputs": [],
   "source": [
    "C ='india\\tmadhayapradesh\\tgwalior'"
   ]
  },
  {
   "cell_type": "code",
   "execution_count": 35,
   "id": "78668f39",
   "metadata": {},
   "outputs": [
    {
     "data": {
      "text/plain": [
       "'india   madhayapradesh  gwalior'"
      ]
     },
     "execution_count": 35,
     "metadata": {},
     "output_type": "execute_result"
    }
   ],
   "source": [
    "C.expandtabs()"
   ]
  },
  {
   "cell_type": "markdown",
   "id": "3d06c752",
   "metadata": {},
   "source": [
    "8.Give an example of strip , lstrip and rstrip"
   ]
  },
  {
   "cell_type": "code",
   "execution_count": 24,
   "id": "3a685eaa",
   "metadata": {},
   "outputs": [],
   "source": [
    "s = \"     ineuronindia     \""
   ]
  },
  {
   "cell_type": "code",
   "execution_count": 25,
   "id": "0f1ae7cf",
   "metadata": {},
   "outputs": [
    {
     "data": {
      "text/plain": [
       "'ineuronindia'"
      ]
     },
     "execution_count": 25,
     "metadata": {},
     "output_type": "execute_result"
    }
   ],
   "source": [
    "s.strip()"
   ]
  },
  {
   "cell_type": "code",
   "execution_count": 26,
   "id": "e67793ce",
   "metadata": {},
   "outputs": [
    {
     "data": {
      "text/plain": [
       "'ineuronindia     '"
      ]
     },
     "execution_count": 26,
     "metadata": {},
     "output_type": "execute_result"
    }
   ],
   "source": [
    "s.lstrip()"
   ]
  },
  {
   "cell_type": "code",
   "execution_count": 27,
   "id": "95fb8099",
   "metadata": {},
   "outputs": [
    {
     "data": {
      "text/plain": [
       "'     ineuronindia'"
      ]
     },
     "execution_count": 27,
     "metadata": {},
     "output_type": "execute_result"
    }
   ],
   "source": [
    "s.rstrip()"
   ]
  },
  {
   "cell_type": "markdown",
   "id": "50729077",
   "metadata": {},
   "source": [
    "9. Replace a string charecter by another charector by taking your own example \"sudhanshu\""
   ]
  },
  {
   "cell_type": "code",
   "execution_count": 28,
   "id": "8bce7754",
   "metadata": {},
   "outputs": [],
   "source": [
    "s = \"sudhanshu\""
   ]
  },
  {
   "cell_type": "code",
   "execution_count": 29,
   "id": "9cb37e4e",
   "metadata": {},
   "outputs": [
    {
     "data": {
      "text/plain": [
       "'suineuronhanshu'"
      ]
     },
     "execution_count": 29,
     "metadata": {},
     "output_type": "execute_result"
    }
   ],
   "source": [
    "s.replace(\"d\",\"ineuron\")"
   ]
  },
  {
   "cell_type": "markdown",
   "id": "fc9e36b7",
   "metadata": {},
   "source": [
    "\n",
    "10 . Try  to give a defination of string center function with and exmple "
   ]
  },
  {
   "cell_type": "markdown",
   "id": "3a368b84",
   "metadata": {},
   "source": [
    "string center function is creat aand return new string that is padding with some other charactor  without changing old string."
   ]
  },
  {
   "cell_type": "markdown",
   "id": "8a4b19dc",
   "metadata": {},
   "source": [
    "exampal"
   ]
  },
  {
   "cell_type": "code",
   "execution_count": 30,
   "id": "f696cd38",
   "metadata": {},
   "outputs": [],
   "source": [
    "j = \"jitendra\""
   ]
  },
  {
   "cell_type": "code",
   "execution_count": 31,
   "id": "40d64d02",
   "metadata": {},
   "outputs": [
    {
     "data": {
      "text/plain": [
       "'****jitendra****'"
      ]
     },
     "execution_count": 31,
     "metadata": {},
     "output_type": "execute_result"
    }
   ],
   "source": [
    "j.center(16 ,\"*\")"
   ]
  },
  {
   "cell_type": "markdown",
   "id": "e895da2b",
   "metadata": {},
   "source": [
    "11 . Write your own definition of compiler and interpretor without copy paste form internet in your own language\n"
   ]
  },
  {
   "cell_type": "code",
   "execution_count": 40,
   "id": "491eeecb",
   "metadata": {},
   "outputs": [],
   "source": [
    "Ans11 = 'complier and interpretor both convert the high level programming language to machine code , the basic different is complier is convert the code before  the prugramm is runing.  and interpretor is convert the code  when programming is running..'"
   ]
  },
  {
   "cell_type": "code",
   "execution_count": 41,
   "id": "e77e269b",
   "metadata": {},
   "outputs": [
    {
     "data": {
      "text/plain": [
       "'Complier and interpretor both convert the high level programming language to machine code , the basic different is complier is convert the code before  the prugramm is runing.  and interpretor is convert the code  when programming is running..'"
      ]
     },
     "execution_count": 41,
     "metadata": {},
     "output_type": "execute_result"
    }
   ],
   "source": [
    "Ans11.capitalize()"
   ]
  },
  {
   "cell_type": "markdown",
   "id": "aa84bcdd",
   "metadata": {},
   "source": [
    " 11.Python is a interpreted of compiled language give a clear ans with your understanding "
   ]
  },
  {
   "cell_type": "code",
   "execution_count": 42,
   "id": "44f836b1",
   "metadata": {},
   "outputs": [],
   "source": [
    "Ans11 = 'in python, compiler do not convert the sorce code to machine code , in which compiler first convert the sorce core into the binary code. interpreter work between compiler and machine.. this interpreter  convert binary code into machine code'"
   ]
  },
  {
   "cell_type": "code",
   "execution_count": 43,
   "id": "32d3fac4",
   "metadata": {},
   "outputs": [
    {
     "data": {
      "text/plain": [
       "'Complier and interpretor both convert the high level programming language to machine code , the basic different is complier is convert the code before  the prugramm is runing.  and interpretor is convert the code  when programming is running..'"
      ]
     },
     "execution_count": 43,
     "metadata": {},
     "output_type": "execute_result"
    }
   ],
   "source": [
    "Ans.capitalize()"
   ]
  },
  {
   "cell_type": "markdown",
   "id": "f862d173",
   "metadata": {},
   "source": [
    "13 . Try to write a usecase of python with your understanding ."
   ]
  },
  {
   "cell_type": "code",
   "execution_count": 36,
   "id": "3ee7013e",
   "metadata": {},
   "outputs": [],
   "source": [
    "Ans13 = 'python is use for Data science , artificial intelligence , web development , game development.' "
   ]
  },
  {
   "cell_type": "code",
   "execution_count": 37,
   "id": "8e6a60f7",
   "metadata": {},
   "outputs": [
    {
     "data": {
      "text/plain": [
       "'Python is use for data science , artificial intelligence , web development , game development.'"
      ]
     },
     "execution_count": 37,
     "metadata": {},
     "output_type": "execute_result"
    }
   ],
   "source": [
    "Ans13.capitalize()"
   ]
  },
  {
   "cell_type": "code",
   "execution_count": null,
   "id": "7fcb1c62",
   "metadata": {},
   "outputs": [],
   "source": []
  },
  {
   "cell_type": "code",
   "execution_count": null,
   "id": "fd68a808",
   "metadata": {},
   "outputs": [],
   "source": []
  },
  {
   "cell_type": "code",
   "execution_count": null,
   "id": "f1e39c1c",
   "metadata": {},
   "outputs": [],
   "source": []
  },
  {
   "cell_type": "code",
   "execution_count": null,
   "id": "424cb8fc",
   "metadata": {},
   "outputs": [],
   "source": []
  },
  {
   "cell_type": "code",
   "execution_count": null,
   "id": "246de2d4",
   "metadata": {},
   "outputs": [],
   "source": []
  },
  {
   "cell_type": "code",
   "execution_count": null,
   "id": "cddf7d77",
   "metadata": {},
   "outputs": [],
   "source": []
  },
  {
   "cell_type": "code",
   "execution_count": null,
   "id": "b260ac29",
   "metadata": {},
   "outputs": [],
   "source": []
  },
  {
   "cell_type": "code",
   "execution_count": null,
   "id": "2bce0ac4",
   "metadata": {},
   "outputs": [],
   "source": []
  },
  {
   "cell_type": "code",
   "execution_count": null,
   "id": "aaaf2630",
   "metadata": {},
   "outputs": [],
   "source": []
  },
  {
   "cell_type": "code",
   "execution_count": null,
   "id": "933c8de1",
   "metadata": {},
   "outputs": [],
   "source": []
  },
  {
   "cell_type": "code",
   "execution_count": null,
   "id": "3197696f",
   "metadata": {},
   "outputs": [],
   "source": []
  },
  {
   "cell_type": "code",
   "execution_count": null,
   "id": "c5a424c0",
   "metadata": {},
   "outputs": [],
   "source": []
  },
  {
   "cell_type": "code",
   "execution_count": null,
   "id": "14e62d1d",
   "metadata": {},
   "outputs": [],
   "source": []
  },
  {
   "cell_type": "code",
   "execution_count": null,
   "id": "d6a3ba50",
   "metadata": {},
   "outputs": [],
   "source": []
  },
  {
   "cell_type": "code",
   "execution_count": null,
   "id": "7fcbc224",
   "metadata": {},
   "outputs": [],
   "source": []
  }
 ],
 "metadata": {
  "kernelspec": {
   "display_name": "Python 3 (ipykernel)",
   "language": "python",
   "name": "python3"
  },
  "language_info": {
   "codemirror_mode": {
    "name": "ipython",
    "version": 3
   },
   "file_extension": ".py",
   "mimetype": "text/x-python",
   "name": "python",
   "nbconvert_exporter": "python",
   "pygments_lexer": "ipython3",
   "version": "3.9.7"
  }
 },
 "nbformat": 4,
 "nbformat_minor": 5
}
